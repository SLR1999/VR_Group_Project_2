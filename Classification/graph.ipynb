{
 "cells": [
  {
   "cell_type": "code",
   "execution_count": 1,
   "metadata": {},
   "outputs": [
    {
     "data": {
      "text/plain": [
       "<Figure size 640x480 with 1 Axes>"
      ]
     },
     "metadata": {},
     "output_type": "display_data"
    }
   ],
   "source": [
    "import matplotlib.pyplot as plt\n",
    "\n",
    "fig = plt.figure()\n",
    "ax = fig.add_axes([0,0,1,1])\n",
    "dress = ['Kurta','Format Shirt','T Shirt','Saree']\n",
    "number = [189+20,189+20,150+16,144+16]\n",
    "ax.bar(dress,number)\n",
    "plt.ylabel('Number of images')\n",
    "plt.title('Distribution of Mask RCNN Dataset')\n",
    "plt.show()"
   ]
  },
  {
   "cell_type": "code",
   "execution_count": null,
   "metadata": {},
   "outputs": [],
   "source": [
    "fig = plt.figure()\n",
    "epoch = [4,8,12,16,20,24]\n",
    "yolo_loss = [1.2459,1.0682,1.0099,0.9728,0.9731,0.9746]\n",
    "mrcnn_loss = [1.1404,1.0936,1.1381,1.1079,1.1017,1.1212]\n",
    "plt.plot(epoch, yolo_loss, label = \"YOLO\")\n",
    "plt.plot(epoch, mrcnn_loss, label = \"Mask RCNN\")\n",
    "plt.xlabel('Epoch Number')\n",
    "plt.ylabel('Validation Loss')"
   ]
  },
  {
   "cell_type": "code",
   "execution_count": null,
   "metadata": {},
   "outputs": [],
   "source": [
    "fig = plt.figure()\n",
    "ax = fig.add_axes([0,0,1,1])\n",
    "dress = ['Kurta','Format Shirt','T Shirt','Saree']\n",
    "number = [0.708333,0.678571,0.875000,0.678571]\n",
    "ax.bar(dress,number)\n",
    "plt.ylabel('Accuracy')\n",
    "plt.title('Category')\n",
    "plt.show()"
   ]
  },
  {
   "cell_type": "code",
   "execution_count": 3,
   "metadata": {},
   "outputs": [
    {
     "data": {
      "image/png": "[encoded data removed]",
      "text/plain": [
       "<Figure size 432x288 with 1 Axes>"
      ]
     },
     "metadata": {
      "needs_background": "light"
     },
     "output_type": "display_data"
    }
   ],
   "source": [
    "fig = plt.figure()\n",
    "ax = fig.add_axes([0,0,1,1])\n",
    "dress = ['Kurta','Format Shirt','T Shirt','Saree']\n",
    "number = [0.648810,0.730539,0.658683,0.700599]\n",
    "ax.bar(dress,number)\n",
    "plt.ylabel('Accuracy')\n",
    "plt.title('Categorywise accuracy for YOLO')\n",
    "plt.show()"
   ]
  },
  {
   "cell_type": "code",
   "execution_count": null,
   "metadata": {},
   "outputs": [],
   "source": []
  }
 ],
 "metadata": {
  "kernelspec": {
   "display_name": "Python 3",
   "language": "python",
   "name": "python3"
  },
  "language_info": {
   "codemirror_mode": {
    "name": "ipython",
    "version": 3
   },
   "file_extension": ".py",
   "mimetype": "text/x-python",
   "name": "python",
   "nbconvert_exporter": "python",
   "pygments_lexer": "ipython3",
   "version": "3.7.4"
  }
 },
 "nbformat": 4,
 "nbformat_minor": 2
}
